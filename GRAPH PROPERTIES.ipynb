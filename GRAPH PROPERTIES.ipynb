{
 "cells": [
  {
   "cell_type": "markdown",
   "id": "2702504a",
   "metadata": {},
   "source": [
    "# ##GRAPH PROPERTIES"
   ]
  },
  {
   "cell_type": "markdown",
   "id": "e9068368",
   "metadata": {},
   "source": [
    "## 2D LINE PLOT "
   ]
  },
  {
   "cell_type": "code",
   "execution_count": null,
   "id": "196c86e3",
   "metadata": {},
   "outputs": [],
   "source": [
    "Bivariate Analysis\n",
    "categorical -> numerical and numerical -> numerical\n",
    "Use case - Time series data\n",
    "     "
   ]
  },
  {
   "cell_type": "markdown",
   "id": "4da68c65",
   "metadata": {},
   "source": [
    "## SCATTER PLOT"
   ]
  },
  {
   "cell_type": "code",
   "execution_count": null,
   "id": "dbae206a",
   "metadata": {},
   "outputs": [],
   "source": [
    "Bivariate Analysis\n",
    "numerical vs numerical\n",
    "Use case - Finding correlation"
   ]
  },
  {
   "cell_type": "markdown",
   "id": "73eb3318",
   "metadata": {},
   "source": [
    "##  BAR CHART"
   ]
  },
  {
   "cell_type": "code",
   "execution_count": null,
   "id": "0b51142f",
   "metadata": {},
   "outputs": [],
   "source": [
    "Bivariate Analysis\n",
    "Numerical vs Categorical\n",
    "Use case - Aggregate analysis of groups"
   ]
  },
  {
   "cell_type": "markdown",
   "id": "fa5b2145",
   "metadata": {},
   "source": [
    "## HISTOGRAM\n"
   ]
  },
  {
   "cell_type": "code",
   "execution_count": null,
   "id": "dc5dc81e",
   "metadata": {},
   "outputs": [],
   "source": [
    "Univariate Analysis\n",
    "Numerical col\n",
    "Use case - Frequency Count"
   ]
  },
  {
   "cell_type": "markdown",
   "id": "a61fab1f",
   "metadata": {},
   "source": [
    "## PIE CHARTS"
   ]
  },
  {
   "cell_type": "code",
   "execution_count": null,
   "id": "8aced389",
   "metadata": {},
   "outputs": [],
   "source": [
    "Univariate/Bivariate Analysis\n",
    "Categorical vs numerical\n",
    "Use case - To find contibution on a standard scale"
   ]
  }
 ],
 "metadata": {
  "kernelspec": {
   "display_name": "Python 3 (ipykernel)",
   "language": "python",
   "name": "python3"
  },
  "language_info": {
   "codemirror_mode": {
    "name": "ipython",
    "version": 3
   },
   "file_extension": ".py",
   "mimetype": "text/x-python",
   "name": "python",
   "nbconvert_exporter": "python",
   "pygments_lexer": "ipython3",
   "version": "3.9.13"
  }
 },
 "nbformat": 4,
 "nbformat_minor": 5
}
